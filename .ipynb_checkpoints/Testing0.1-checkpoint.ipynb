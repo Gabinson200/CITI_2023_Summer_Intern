import pandas as pd

df = pd.read_csv(



{
 "cells": [],
 "metadata": {},
 "nbformat": 4,
 "nbformat_minor": 5
}
